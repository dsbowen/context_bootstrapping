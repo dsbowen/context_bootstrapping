{
 "cells": [
  {
   "cell_type": "code",
   "execution_count": 1,
   "metadata": {},
   "outputs": [],
   "source": [
    "import numpy as np\n",
    "import pandas as pd\n",
    "import statsmodels.api as sm\n",
    "try:\n",
    "    from yaml import load, CLoader as Loader\n",
    "except:\n",
    "    from yaml import load, Loader as Loader\n",
    "\n",
    "import os\n",
    "\n",
    "DATAFILE = '../data/study1.csv'\n",
    "FORECASTSFILE = '../forecasts.yaml'"
   ]
  },
  {
   "cell_type": "code",
   "execution_count": 2,
   "metadata": {},
   "outputs": [
    {
     "output_type": "execute_result",
     "data": {
      "text/plain": [
       "          Forecast        True\n",
       "0      COVID_cases  168.620000\n",
       "1         Tsunamis    8.000000\n",
       "2          Bitcoin  115.126000\n",
       "3        SongTempo  120.525875\n",
       "4    ClimateChange   47.000000\n",
       "5  PoliceShootings   70.000000\n",
       "6          Meteors   11.000000\n",
       "7      TrumpTweets  156.000000\n",
       "8  VaccineSearches  100.000000"
      ],
      "text/html": "<div>\n<style scoped>\n    .dataframe tbody tr th:only-of-type {\n        vertical-align: middle;\n    }\n\n    .dataframe tbody tr th {\n        vertical-align: top;\n    }\n\n    .dataframe thead th {\n        text-align: right;\n    }\n</style>\n<table border=\"1\" class=\"dataframe\">\n  <thead>\n    <tr style=\"text-align: right;\">\n      <th></th>\n      <th>Forecast</th>\n      <th>True</th>\n    </tr>\n  </thead>\n  <tbody>\n    <tr>\n      <th>0</th>\n      <td>COVID_cases</td>\n      <td>168.620000</td>\n    </tr>\n    <tr>\n      <th>1</th>\n      <td>Tsunamis</td>\n      <td>8.000000</td>\n    </tr>\n    <tr>\n      <th>2</th>\n      <td>Bitcoin</td>\n      <td>115.126000</td>\n    </tr>\n    <tr>\n      <th>3</th>\n      <td>SongTempo</td>\n      <td>120.525875</td>\n    </tr>\n    <tr>\n      <th>4</th>\n      <td>ClimateChange</td>\n      <td>47.000000</td>\n    </tr>\n    <tr>\n      <th>5</th>\n      <td>PoliceShootings</td>\n      <td>70.000000</td>\n    </tr>\n    <tr>\n      <th>6</th>\n      <td>Meteors</td>\n      <td>11.000000</td>\n    </tr>\n    <tr>\n      <th>7</th>\n      <td>TrumpTweets</td>\n      <td>156.000000</td>\n    </tr>\n    <tr>\n      <th>8</th>\n      <td>VaccineSearches</td>\n      <td>100.000000</td>\n    </tr>\n  </tbody>\n</table>\n</div>"
     },
     "metadata": {},
     "execution_count": 2
    }
   ],
   "source": [
    "forecasts = load(open(FORECASTSFILE), Loader=Loader)\n",
    "def get_true(key):\n",
    "    path = os.path.join('..', forecasts[key]['filename'])\n",
    "    return pd.read_csv(path).y.values[-1]\n",
    "\n",
    "true_df = pd.DataFrame({\n",
    "    'Forecast': forecasts.keys(),\n",
    "    'True': [get_true(key) for key in forecasts.keys()]\n",
    "})\n",
    "true_df"
   ]
  },
  {
   "cell_type": "code",
   "execution_count": 3,
   "metadata": {},
   "outputs": [
    {
     "output_type": "execute_result",
     "data": {
      "text/plain": [
       "            IPv4        WorkerId  Bootstrap  Context SurveyCode   ID  \\\n",
       "0   173.22.23.45  A24LB89P1BPKKF        1.0  neither     O62F96  112   \n",
       "1  196.17.66.143  A1L7QPDYJJG98Y        1.0     both     zNcBYt  115   \n",
       "2  67.20.142.175  A26KZMPK2EKVMX        0.0     both     tCuBsE  118   \n",
       "3   67.164.74.58   ASC9DUCC64M3P        1.0     both     DPpr2Q    5   \n",
       "4  63.75.250.107   A6D4ZL7O2NH8M        0.0  neither     LgYlTV   13   \n",
       "\n",
       "                      EndTime                   StartTime     Status  \\\n",
       "0  2021-03-18 17:52:38.413041  2021-03-18 17:33:08.729711  Completed   \n",
       "1  2021-03-18 18:04:04.849359  2021-03-18 17:50:45.277455  Completed   \n",
       "2  2021-03-18 18:45:41.843004  2021-03-18 17:59:53.343141  Completed   \n",
       "3  2021-03-18 14:02:31.107359  2021-03-18 13:37:43.694651  Completed   \n",
       "4  2021-03-18 14:12:18.600962  2021-03-18 13:53:07.101269  Completed   \n",
       "\n",
       "   DemographicsTime  ... SecondEstimate95  ContextKnowledge  LookUp  \\\n",
       "0         17.411276  ...             50.0               1.0     0.0   \n",
       "1          6.160700  ...             95.0               2.0     1.0   \n",
       "2         18.374332  ...             40.0              -1.0     0.0   \n",
       "3          7.665935  ...            250.0              -1.0     0.0   \n",
       "4         19.097487  ...              2.0               1.0     1.0   \n",
       "\n",
       "                   AdditionalComments  Berlin2bTime  Berlin2b  Berlin3Time  \\\n",
       "0                                 NaN           NaN       NaN          NaN   \n",
       "1                         NO COMMENTS           NaN       NaN          NaN   \n",
       "2             Very interesting study.           NaN       NaN          NaN   \n",
       "3  No additional comments. Thank you.           NaN       NaN          NaN   \n",
       "4                          very nice            NaN       NaN          NaN   \n",
       "\n",
       "   Berlin3  next  True  \n",
       "0      NaN   NaN  11.0  \n",
       "1      NaN   NaN  11.0  \n",
       "2      NaN   NaN  11.0  \n",
       "3      NaN   NaN  11.0  \n",
       "4      NaN   NaN  11.0  \n",
       "\n",
       "[5 rows x 70 columns]"
      ],
      "text/html": "<div>\n<style scoped>\n    .dataframe tbody tr th:only-of-type {\n        vertical-align: middle;\n    }\n\n    .dataframe tbody tr th {\n        vertical-align: top;\n    }\n\n    .dataframe thead th {\n        text-align: right;\n    }\n</style>\n<table border=\"1\" class=\"dataframe\">\n  <thead>\n    <tr style=\"text-align: right;\">\n      <th></th>\n      <th>IPv4</th>\n      <th>WorkerId</th>\n      <th>Bootstrap</th>\n      <th>Context</th>\n      <th>SurveyCode</th>\n      <th>ID</th>\n      <th>EndTime</th>\n      <th>StartTime</th>\n      <th>Status</th>\n      <th>DemographicsTime</th>\n      <th>...</th>\n      <th>SecondEstimate95</th>\n      <th>ContextKnowledge</th>\n      <th>LookUp</th>\n      <th>AdditionalComments</th>\n      <th>Berlin2bTime</th>\n      <th>Berlin2b</th>\n      <th>Berlin3Time</th>\n      <th>Berlin3</th>\n      <th>next</th>\n      <th>True</th>\n    </tr>\n  </thead>\n  <tbody>\n    <tr>\n      <th>0</th>\n      <td>173.22.23.45</td>\n      <td>A24LB89P1BPKKF</td>\n      <td>1.0</td>\n      <td>neither</td>\n      <td>O62F96</td>\n      <td>112</td>\n      <td>2021-03-18 17:52:38.413041</td>\n      <td>2021-03-18 17:33:08.729711</td>\n      <td>Completed</td>\n      <td>17.411276</td>\n      <td>...</td>\n      <td>50.0</td>\n      <td>1.0</td>\n      <td>0.0</td>\n      <td>NaN</td>\n      <td>NaN</td>\n      <td>NaN</td>\n      <td>NaN</td>\n      <td>NaN</td>\n      <td>NaN</td>\n      <td>11.0</td>\n    </tr>\n    <tr>\n      <th>1</th>\n      <td>196.17.66.143</td>\n      <td>A1L7QPDYJJG98Y</td>\n      <td>1.0</td>\n      <td>both</td>\n      <td>zNcBYt</td>\n      <td>115</td>\n      <td>2021-03-18 18:04:04.849359</td>\n      <td>2021-03-18 17:50:45.277455</td>\n      <td>Completed</td>\n      <td>6.160700</td>\n      <td>...</td>\n      <td>95.0</td>\n      <td>2.0</td>\n      <td>1.0</td>\n      <td>NO COMMENTS</td>\n      <td>NaN</td>\n      <td>NaN</td>\n      <td>NaN</td>\n      <td>NaN</td>\n      <td>NaN</td>\n      <td>11.0</td>\n    </tr>\n    <tr>\n      <th>2</th>\n      <td>67.20.142.175</td>\n      <td>A26KZMPK2EKVMX</td>\n      <td>0.0</td>\n      <td>both</td>\n      <td>tCuBsE</td>\n      <td>118</td>\n      <td>2021-03-18 18:45:41.843004</td>\n      <td>2021-03-18 17:59:53.343141</td>\n      <td>Completed</td>\n      <td>18.374332</td>\n      <td>...</td>\n      <td>40.0</td>\n      <td>-1.0</td>\n      <td>0.0</td>\n      <td>Very interesting study.</td>\n      <td>NaN</td>\n      <td>NaN</td>\n      <td>NaN</td>\n      <td>NaN</td>\n      <td>NaN</td>\n      <td>11.0</td>\n    </tr>\n    <tr>\n      <th>3</th>\n      <td>67.164.74.58</td>\n      <td>ASC9DUCC64M3P</td>\n      <td>1.0</td>\n      <td>both</td>\n      <td>DPpr2Q</td>\n      <td>5</td>\n      <td>2021-03-18 14:02:31.107359</td>\n      <td>2021-03-18 13:37:43.694651</td>\n      <td>Completed</td>\n      <td>7.665935</td>\n      <td>...</td>\n      <td>250.0</td>\n      <td>-1.0</td>\n      <td>0.0</td>\n      <td>No additional comments. Thank you.</td>\n      <td>NaN</td>\n      <td>NaN</td>\n      <td>NaN</td>\n      <td>NaN</td>\n      <td>NaN</td>\n      <td>11.0</td>\n    </tr>\n    <tr>\n      <th>4</th>\n      <td>63.75.250.107</td>\n      <td>A6D4ZL7O2NH8M</td>\n      <td>0.0</td>\n      <td>neither</td>\n      <td>LgYlTV</td>\n      <td>13</td>\n      <td>2021-03-18 14:12:18.600962</td>\n      <td>2021-03-18 13:53:07.101269</td>\n      <td>Completed</td>\n      <td>19.097487</td>\n      <td>...</td>\n      <td>2.0</td>\n      <td>1.0</td>\n      <td>1.0</td>\n      <td>very nice</td>\n      <td>NaN</td>\n      <td>NaN</td>\n      <td>NaN</td>\n      <td>NaN</td>\n      <td>NaN</td>\n      <td>11.0</td>\n    </tr>\n  </tbody>\n</table>\n<p>5 rows × 70 columns</p>\n</div>"
     },
     "metadata": {},
     "execution_count": 3
    }
   ],
   "source": [
    "df = pd.read_csv(DATAFILE)\n",
    "df = df[(df.WorkerId != 'test') & (df.Status == 'Completed')].dropna(subset=['SecondEstimate50'])\n",
    "df = df.merge(true_df, on='Forecast')\n",
    "df.head()"
   ]
  },
  {
   "cell_type": "code",
   "execution_count": 4,
   "metadata": {},
   "outputs": [
    {
     "output_type": "execute_result",
     "data": {
      "text/plain": [
       "         WorkerId Forecast  Percentile  CRT_WhalesTime  CRT_BatBall  \\\n",
       "0  A24LB89P1BPKKF  Meteors         5.0       16.479828         10.0   \n",
       "1  A24LB89P1BPKKF  Meteors        50.0       16.479828         10.0   \n",
       "2  A24LB89P1BPKKF  Meteors        95.0       16.479828         10.0   \n",
       "4  A1L7QPDYJJG98Y  Meteors         5.0        2.443005          1.0   \n",
       "5  A1L7QPDYJJG98Y  Meteors        50.0        2.443005          1.0   \n",
       "\n",
       "   CRT_StockTime  RaceWhite  CRT_StudentsCorrect  CRT_StockIntuitive  \\\n",
       "0      35.925735        1.0                  1.0                 0.0   \n",
       "1      35.925735        1.0                  1.0                 0.0   \n",
       "2      35.925735        1.0                  1.0                 0.0   \n",
       "4       5.295950        1.0                  0.0                 0.0   \n",
       "5       5.295950        1.0                  0.0                 0.0   \n",
       "\n",
       "   CRT_BatBallCorrect  ... CRT_Stock           IPv4 next  AdditionalComments  \\\n",
       "0                 0.0  ...      loss   173.22.23.45  NaN                 NaN   \n",
       "1                 0.0  ...      loss   173.22.23.45  NaN                 NaN   \n",
       "2                 0.0  ...      loss   173.22.23.45  NaN                 NaN   \n",
       "4                 0.0  ...      loss  196.17.66.143  NaN         NO COMMENTS   \n",
       "5                 0.0  ...      loss  196.17.66.143  NaN         NO COMMENTS   \n",
       "\n",
       "   CRT_StudentsTime  CRT_StockCorrect  FirstEstimate  SecondEstimate  \\\n",
       "0         16.736469               1.0            4.0             4.0   \n",
       "1         16.736469               1.0           19.0            25.0   \n",
       "2         16.736469               1.0           45.0            50.0   \n",
       "4          6.631298               1.0           40.0             5.0   \n",
       "5          6.631298               1.0           65.0            50.0   \n",
       "\n",
       "   AverageEstimate  AverageEstimateLoss  \n",
       "0              4.0                0.350  \n",
       "1             22.0                5.500  \n",
       "2             47.5                1.825  \n",
       "4             22.5               10.925  \n",
       "5             57.5               23.250  \n",
       "\n",
       "[5 rows x 67 columns]"
      ],
      "text/html": "<div>\n<style scoped>\n    .dataframe tbody tr th:only-of-type {\n        vertical-align: middle;\n    }\n\n    .dataframe tbody tr th {\n        vertical-align: top;\n    }\n\n    .dataframe thead th {\n        text-align: right;\n    }\n</style>\n<table border=\"1\" class=\"dataframe\">\n  <thead>\n    <tr style=\"text-align: right;\">\n      <th></th>\n      <th>WorkerId</th>\n      <th>Forecast</th>\n      <th>Percentile</th>\n      <th>CRT_WhalesTime</th>\n      <th>CRT_BatBall</th>\n      <th>CRT_StockTime</th>\n      <th>RaceWhite</th>\n      <th>CRT_StudentsCorrect</th>\n      <th>CRT_StockIntuitive</th>\n      <th>CRT_BatBallCorrect</th>\n      <th>...</th>\n      <th>CRT_Stock</th>\n      <th>IPv4</th>\n      <th>next</th>\n      <th>AdditionalComments</th>\n      <th>CRT_StudentsTime</th>\n      <th>CRT_StockCorrect</th>\n      <th>FirstEstimate</th>\n      <th>SecondEstimate</th>\n      <th>AverageEstimate</th>\n      <th>AverageEstimateLoss</th>\n    </tr>\n  </thead>\n  <tbody>\n    <tr>\n      <th>0</th>\n      <td>A24LB89P1BPKKF</td>\n      <td>Meteors</td>\n      <td>5.0</td>\n      <td>16.479828</td>\n      <td>10.0</td>\n      <td>35.925735</td>\n      <td>1.0</td>\n      <td>1.0</td>\n      <td>0.0</td>\n      <td>0.0</td>\n      <td>...</td>\n      <td>loss</td>\n      <td>173.22.23.45</td>\n      <td>NaN</td>\n      <td>NaN</td>\n      <td>16.736469</td>\n      <td>1.0</td>\n      <td>4.0</td>\n      <td>4.0</td>\n      <td>4.0</td>\n      <td>0.350</td>\n    </tr>\n    <tr>\n      <th>1</th>\n      <td>A24LB89P1BPKKF</td>\n      <td>Meteors</td>\n      <td>50.0</td>\n      <td>16.479828</td>\n      <td>10.0</td>\n      <td>35.925735</td>\n      <td>1.0</td>\n      <td>1.0</td>\n      <td>0.0</td>\n      <td>0.0</td>\n      <td>...</td>\n      <td>loss</td>\n      <td>173.22.23.45</td>\n      <td>NaN</td>\n      <td>NaN</td>\n      <td>16.736469</td>\n      <td>1.0</td>\n      <td>19.0</td>\n      <td>25.0</td>\n      <td>22.0</td>\n      <td>5.500</td>\n    </tr>\n    <tr>\n      <th>2</th>\n      <td>A24LB89P1BPKKF</td>\n      <td>Meteors</td>\n      <td>95.0</td>\n      <td>16.479828</td>\n      <td>10.0</td>\n      <td>35.925735</td>\n      <td>1.0</td>\n      <td>1.0</td>\n      <td>0.0</td>\n      <td>0.0</td>\n      <td>...</td>\n      <td>loss</td>\n      <td>173.22.23.45</td>\n      <td>NaN</td>\n      <td>NaN</td>\n      <td>16.736469</td>\n      <td>1.0</td>\n      <td>45.0</td>\n      <td>50.0</td>\n      <td>47.5</td>\n      <td>1.825</td>\n    </tr>\n    <tr>\n      <th>4</th>\n      <td>A1L7QPDYJJG98Y</td>\n      <td>Meteors</td>\n      <td>5.0</td>\n      <td>2.443005</td>\n      <td>1.0</td>\n      <td>5.295950</td>\n      <td>1.0</td>\n      <td>0.0</td>\n      <td>0.0</td>\n      <td>0.0</td>\n      <td>...</td>\n      <td>loss</td>\n      <td>196.17.66.143</td>\n      <td>NaN</td>\n      <td>NO COMMENTS</td>\n      <td>6.631298</td>\n      <td>1.0</td>\n      <td>40.0</td>\n      <td>5.0</td>\n      <td>22.5</td>\n      <td>10.925</td>\n    </tr>\n    <tr>\n      <th>5</th>\n      <td>A1L7QPDYJJG98Y</td>\n      <td>Meteors</td>\n      <td>50.0</td>\n      <td>2.443005</td>\n      <td>1.0</td>\n      <td>5.295950</td>\n      <td>1.0</td>\n      <td>0.0</td>\n      <td>0.0</td>\n      <td>0.0</td>\n      <td>...</td>\n      <td>loss</td>\n      <td>196.17.66.143</td>\n      <td>NaN</td>\n      <td>NO COMMENTS</td>\n      <td>6.631298</td>\n      <td>1.0</td>\n      <td>65.0</td>\n      <td>50.0</td>\n      <td>57.5</td>\n      <td>23.250</td>\n    </tr>\n  </tbody>\n</table>\n<p>5 rows × 67 columns</p>\n</div>"
     },
     "metadata": {},
     "execution_count": 4
    }
   ],
   "source": [
    "df = pd.wide_to_long(df, ['FirstEstimate', 'SecondEstimate'], i=['WorkerId', 'Forecast'], j='Percentile', suffix='\\w+')\\\n",
    "    .reset_index()\n",
    "df = df[df.Percentile != 'Time'] # columns named e.g. FirstEstimateTime also included in dataframe\n",
    "df.Percentile = df.Percentile.astype(float) # previously object column because of 'Time'\n",
    "df['AverageEstimate'] = (df.FirstEstimate + df.SecondEstimate) / 2\n",
    "df['AverageEstimateLoss'] = (df['True'] - df.AverageEstimate) * (df.Percentile / 100 - (df['True'] < df.AverageEstimate))\n",
    "df.head()"
   ]
  },
  {
   "cell_type": "code",
   "execution_count": 5,
   "metadata": {},
   "outputs": [
    {
     "output_type": "execute_result",
     "data": {
      "text/plain": [
       "         WorkerId Forecast  Percentile  CRT_WhalesTime  CRT_BatBall  \\\n",
       "0  A24LB89P1BPKKF  Meteors         5.0       16.479828         10.0   \n",
       "1  A1L7QPDYJJG98Y  Meteors         5.0        2.443005          1.0   \n",
       "2  A26KZMPK2EKVMX  Meteors         5.0       56.260748          5.0   \n",
       "3   ASC9DUCC64M3P  Meteors         5.0       14.452615          5.0   \n",
       "4   A6D4ZL7O2NH8M  Meteors         5.0       20.057617          1.0   \n",
       "\n",
       "   CRT_StockTime  RaceWhite  CRT_StudentsCorrect  CRT_StockIntuitive  \\\n",
       "0      35.925735        1.0                  1.0                 0.0   \n",
       "1       5.295950        1.0                  0.0                 0.0   \n",
       "2     119.828893        1.0                  0.0                 1.0   \n",
       "3      34.474927        1.0                  1.0                 0.0   \n",
       "4      29.949291        1.0                  1.0                 1.0   \n",
       "\n",
       "   CRT_BatBallCorrect  ...           IPv4  next  \\\n",
       "0                 0.0  ...   173.22.23.45   NaN   \n",
       "1                 0.0  ...  196.17.66.143   NaN   \n",
       "2                 1.0  ...  67.20.142.175   NaN   \n",
       "3                 1.0  ...   67.164.74.58   NaN   \n",
       "4                 0.0  ...  63.75.250.107   NaN   \n",
       "\n",
       "                   AdditionalComments  CRT_StudentsTime  CRT_StockCorrect  \\\n",
       "0                                 NaN         16.736469               1.0   \n",
       "1                         NO COMMENTS          6.631298               1.0   \n",
       "2             Very interesting study.         51.227580               0.0   \n",
       "3  No additional comments. Thank you.         25.481228               1.0   \n",
       "4                          very nice          49.570824               0.0   \n",
       "\n",
       "   FirstEstimate  SecondEstimate  AverageEstimate  AverageEstimateLoss  \\\n",
       "0            4.0             4.0              4.0                0.350   \n",
       "1           40.0             5.0             22.5               10.925   \n",
       "2           40.0            30.0             35.0               22.800   \n",
       "3            2.0            55.0             28.5               16.625   \n",
       "4           22.0             5.0             13.5                2.375   \n",
       "\n",
       "   AverageEstimateCutoff  \n",
       "0                 36.575  \n",
       "1                 36.575  \n",
       "2                 36.575  \n",
       "3                 36.575  \n",
       "4                 36.575  \n",
       "\n",
       "[5 rows x 68 columns]"
      ],
      "text/html": "<div>\n<style scoped>\n    .dataframe tbody tr th:only-of-type {\n        vertical-align: middle;\n    }\n\n    .dataframe tbody tr th {\n        vertical-align: top;\n    }\n\n    .dataframe thead th {\n        text-align: right;\n    }\n</style>\n<table border=\"1\" class=\"dataframe\">\n  <thead>\n    <tr style=\"text-align: right;\">\n      <th></th>\n      <th>WorkerId</th>\n      <th>Forecast</th>\n      <th>Percentile</th>\n      <th>CRT_WhalesTime</th>\n      <th>CRT_BatBall</th>\n      <th>CRT_StockTime</th>\n      <th>RaceWhite</th>\n      <th>CRT_StudentsCorrect</th>\n      <th>CRT_StockIntuitive</th>\n      <th>CRT_BatBallCorrect</th>\n      <th>...</th>\n      <th>IPv4</th>\n      <th>next</th>\n      <th>AdditionalComments</th>\n      <th>CRT_StudentsTime</th>\n      <th>CRT_StockCorrect</th>\n      <th>FirstEstimate</th>\n      <th>SecondEstimate</th>\n      <th>AverageEstimate</th>\n      <th>AverageEstimateLoss</th>\n      <th>AverageEstimateCutoff</th>\n    </tr>\n  </thead>\n  <tbody>\n    <tr>\n      <th>0</th>\n      <td>A24LB89P1BPKKF</td>\n      <td>Meteors</td>\n      <td>5.0</td>\n      <td>16.479828</td>\n      <td>10.0</td>\n      <td>35.925735</td>\n      <td>1.0</td>\n      <td>1.0</td>\n      <td>0.0</td>\n      <td>0.0</td>\n      <td>...</td>\n      <td>173.22.23.45</td>\n      <td>NaN</td>\n      <td>NaN</td>\n      <td>16.736469</td>\n      <td>1.0</td>\n      <td>4.0</td>\n      <td>4.0</td>\n      <td>4.0</td>\n      <td>0.350</td>\n      <td>36.575</td>\n    </tr>\n    <tr>\n      <th>1</th>\n      <td>A1L7QPDYJJG98Y</td>\n      <td>Meteors</td>\n      <td>5.0</td>\n      <td>2.443005</td>\n      <td>1.0</td>\n      <td>5.295950</td>\n      <td>1.0</td>\n      <td>0.0</td>\n      <td>0.0</td>\n      <td>0.0</td>\n      <td>...</td>\n      <td>196.17.66.143</td>\n      <td>NaN</td>\n      <td>NO COMMENTS</td>\n      <td>6.631298</td>\n      <td>1.0</td>\n      <td>40.0</td>\n      <td>5.0</td>\n      <td>22.5</td>\n      <td>10.925</td>\n      <td>36.575</td>\n    </tr>\n    <tr>\n      <th>2</th>\n      <td>A26KZMPK2EKVMX</td>\n      <td>Meteors</td>\n      <td>5.0</td>\n      <td>56.260748</td>\n      <td>5.0</td>\n      <td>119.828893</td>\n      <td>1.0</td>\n      <td>0.0</td>\n      <td>1.0</td>\n      <td>1.0</td>\n      <td>...</td>\n      <td>67.20.142.175</td>\n      <td>NaN</td>\n      <td>Very interesting study.</td>\n      <td>51.227580</td>\n      <td>0.0</td>\n      <td>40.0</td>\n      <td>30.0</td>\n      <td>35.0</td>\n      <td>22.800</td>\n      <td>36.575</td>\n    </tr>\n    <tr>\n      <th>3</th>\n      <td>ASC9DUCC64M3P</td>\n      <td>Meteors</td>\n      <td>5.0</td>\n      <td>14.452615</td>\n      <td>5.0</td>\n      <td>34.474927</td>\n      <td>1.0</td>\n      <td>1.0</td>\n      <td>0.0</td>\n      <td>1.0</td>\n      <td>...</td>\n      <td>67.164.74.58</td>\n      <td>NaN</td>\n      <td>No additional comments. Thank you.</td>\n      <td>25.481228</td>\n      <td>1.0</td>\n      <td>2.0</td>\n      <td>55.0</td>\n      <td>28.5</td>\n      <td>16.625</td>\n      <td>36.575</td>\n    </tr>\n    <tr>\n      <th>4</th>\n      <td>A6D4ZL7O2NH8M</td>\n      <td>Meteors</td>\n      <td>5.0</td>\n      <td>20.057617</td>\n      <td>1.0</td>\n      <td>29.949291</td>\n      <td>1.0</td>\n      <td>1.0</td>\n      <td>1.0</td>\n      <td>0.0</td>\n      <td>...</td>\n      <td>63.75.250.107</td>\n      <td>NaN</td>\n      <td>very nice</td>\n      <td>49.570824</td>\n      <td>0.0</td>\n      <td>22.0</td>\n      <td>5.0</td>\n      <td>13.5</td>\n      <td>2.375</td>\n      <td>36.575</td>\n    </tr>\n  </tbody>\n</table>\n<p>5 rows × 68 columns</p>\n</div>"
     },
     "metadata": {},
     "execution_count": 5
    }
   ],
   "source": [
    "# trim worst 5% of forecasts by forecast and percentile\n",
    "quant_df = df.groupby(['Forecast', 'Percentile']).AverageEstimateLoss.quantile(.95)\\\n",
    "    .reset_index().rename(columns={'AverageEstimateLoss': 'AverageEstimateCutoff'})\n",
    "df = df.merge(quant_df, on=['Forecast', 'Percentile'])\n",
    "df = df[df.AverageEstimateLoss < df.AverageEstimateCutoff]\n",
    "df.head()"
   ]
  },
  {
   "cell_type": "code",
   "execution_count": 6,
   "metadata": {},
   "outputs": [
    {
     "output_type": "execute_result",
     "data": {
      "text/plain": [
       "      Forecast  Percentile       mean        std\n",
       "0      Bitcoin         5.0  12.878616  34.141399\n",
       "1      Bitcoin        50.0  47.878789  11.257048\n",
       "2      Bitcoin        95.0  82.050200  23.357001\n",
       "3  COVID_cases         5.0  11.773941  21.829224\n",
       "4  COVID_cases        50.0  62.479412  12.247350"
      ],
      "text/html": "<div>\n<style scoped>\n    .dataframe tbody tr th:only-of-type {\n        vertical-align: middle;\n    }\n\n    .dataframe tbody tr th {\n        vertical-align: top;\n    }\n\n    .dataframe thead th {\n        text-align: right;\n    }\n</style>\n<table border=\"1\" class=\"dataframe\">\n  <thead>\n    <tr style=\"text-align: right;\">\n      <th></th>\n      <th>Forecast</th>\n      <th>Percentile</th>\n      <th>mean</th>\n      <th>std</th>\n    </tr>\n  </thead>\n  <tbody>\n    <tr>\n      <th>0</th>\n      <td>Bitcoin</td>\n      <td>5.0</td>\n      <td>12.878616</td>\n      <td>34.141399</td>\n    </tr>\n    <tr>\n      <th>1</th>\n      <td>Bitcoin</td>\n      <td>50.0</td>\n      <td>47.878789</td>\n      <td>11.257048</td>\n    </tr>\n    <tr>\n      <th>2</th>\n      <td>Bitcoin</td>\n      <td>95.0</td>\n      <td>82.050200</td>\n      <td>23.357001</td>\n    </tr>\n    <tr>\n      <th>3</th>\n      <td>COVID_cases</td>\n      <td>5.0</td>\n      <td>11.773941</td>\n      <td>21.829224</td>\n    </tr>\n    <tr>\n      <th>4</th>\n      <td>COVID_cases</td>\n      <td>50.0</td>\n      <td>62.479412</td>\n      <td>12.247350</td>\n    </tr>\n  </tbody>\n</table>\n</div>"
     },
     "metadata": {},
     "execution_count": 6
    }
   ],
   "source": [
    "# normalize dataframe\n",
    "norm_df = df.groupby(['Forecast', 'Percentile']).AverageEstimateLoss.agg(['mean', 'std'])\\\n",
    "    .reset_index()\n",
    "df = df.merge(norm_df, on=['Forecast', 'Percentile'])\n",
    "df['AverageEstimateLoss'] = (df.AverageEstimateLoss - df['mean']) / df['std']\n",
    "norm_df.head()"
   ]
  },
  {
   "cell_type": "code",
   "execution_count": 7,
   "metadata": {},
   "outputs": [
    {
     "output_type": "execute_result",
     "data": {
      "text/plain": [
       "<class 'statsmodels.iolib.summary.Summary'>\n",
       "\"\"\"\n",
       "                             OLS Regression Results                            \n",
       "===============================================================================\n",
       "Dep. Variable:     AverageEstimateLoss   R-squared:                       0.011\n",
       "Model:                             OLS   Adj. R-squared:                  0.005\n",
       "Method:                  Least Squares   F-statistic:                     1.941\n",
       "Date:                 Mon, 22 Mar 2021   Prob (F-statistic):              0.136\n",
       "Time:                         12:09:30   Log-Likelihood:                -760.77\n",
       "No. Observations:                  548   AIC:                             1530.\n",
       "Df Residuals:                      544   BIC:                             1547.\n",
       "Df Model:                            3                                         \n",
       "Covariance Type:               cluster                                         \n",
       "=====================================================================================\n",
       "                        coef    std err          t      P>|t|      [0.025      0.975]\n",
       "-------------------------------------------------------------------------------------\n",
       "const                 0.0213      0.080      0.267      0.791      -0.139       0.182\n",
       "Bootstrap            -0.1888      0.123     -1.531      0.133      -0.437       0.059\n",
       "Context               0.0988      0.109      0.907      0.369      -0.120       0.318\n",
       "BootstrapXContext     0.0574      0.181      0.317      0.753      -0.307       0.421\n",
       "==============================================================================\n",
       "Omnibus:                       85.447   Durbin-Watson:                   1.989\n",
       "Prob(Omnibus):                  0.000   Jarque-Bera (JB):              147.636\n",
       "Skew:                           0.942   Prob(JB):                     8.74e-33\n",
       "Kurtosis:                       4.708   Cond. No.                         6.88\n",
       "==============================================================================\n",
       "\n",
       "Notes:\n",
       "[1] Standard Errors are robust to cluster correlation (cluster)\n",
       "\"\"\""
      ],
      "text/html": "<table class=\"simpletable\">\n<caption>OLS Regression Results</caption>\n<tr>\n  <th>Dep. Variable:</th>    <td>AverageEstimateLoss</td> <th>  R-squared:         </th> <td>   0.011</td>\n</tr>\n<tr>\n  <th>Model:</th>                    <td>OLS</td>         <th>  Adj. R-squared:    </th> <td>   0.005</td>\n</tr>\n<tr>\n  <th>Method:</th>              <td>Least Squares</td>    <th>  F-statistic:       </th> <td>   1.941</td>\n</tr>\n<tr>\n  <th>Date:</th>              <td>Mon, 22 Mar 2021</td>   <th>  Prob (F-statistic):</th>  <td> 0.136</td> \n</tr>\n<tr>\n  <th>Time:</th>                  <td>12:09:30</td>       <th>  Log-Likelihood:    </th> <td> -760.77</td>\n</tr>\n<tr>\n  <th>No. Observations:</th>       <td>   548</td>        <th>  AIC:               </th> <td>   1530.</td>\n</tr>\n<tr>\n  <th>Df Residuals:</th>           <td>   544</td>        <th>  BIC:               </th> <td>   1547.</td>\n</tr>\n<tr>\n  <th>Df Model:</th>               <td>     3</td>        <th>                     </th>     <td> </td>   \n</tr>\n<tr>\n  <th>Covariance Type:</th>        <td>cluster</td>       <th>                     </th>     <td> </td>   \n</tr>\n</table>\n<table class=\"simpletable\">\n<tr>\n          <td></td>             <th>coef</th>     <th>std err</th>      <th>t</th>      <th>P>|t|</th>  <th>[0.025</th>    <th>0.975]</th>  \n</tr>\n<tr>\n  <th>const</th>             <td>    0.0213</td> <td>    0.080</td> <td>    0.267</td> <td> 0.791</td> <td>   -0.139</td> <td>    0.182</td>\n</tr>\n<tr>\n  <th>Bootstrap</th>         <td>   -0.1888</td> <td>    0.123</td> <td>   -1.531</td> <td> 0.133</td> <td>   -0.437</td> <td>    0.059</td>\n</tr>\n<tr>\n  <th>Context</th>           <td>    0.0988</td> <td>    0.109</td> <td>    0.907</td> <td> 0.369</td> <td>   -0.120</td> <td>    0.318</td>\n</tr>\n<tr>\n  <th>BootstrapXContext</th> <td>    0.0574</td> <td>    0.181</td> <td>    0.317</td> <td> 0.753</td> <td>   -0.307</td> <td>    0.421</td>\n</tr>\n</table>\n<table class=\"simpletable\">\n<tr>\n  <th>Omnibus:</th>       <td>85.447</td> <th>  Durbin-Watson:     </th> <td>   1.989</td>\n</tr>\n<tr>\n  <th>Prob(Omnibus):</th> <td> 0.000</td> <th>  Jarque-Bera (JB):  </th> <td> 147.636</td>\n</tr>\n<tr>\n  <th>Skew:</th>          <td> 0.942</td> <th>  Prob(JB):          </th> <td>8.74e-33</td>\n</tr>\n<tr>\n  <th>Kurtosis:</th>      <td> 4.708</td> <th>  Cond. No.          </th> <td>    6.88</td>\n</tr>\n</table><br/><br/>Notes:<br/>[1] Standard Errors are robust to cluster correlation (cluster)"
     },
     "metadata": {},
     "execution_count": 7
    }
   ],
   "source": [
    "# primary analysis\n",
    "X, y = df[['Bootstrap', 'Context']].copy(), df.AverageEstimateLoss\n",
    "X['Context'] = (X.Context == 'both').astype(int)\n",
    "X['BootstrapXContext'] = X.Bootstrap * X.Context\n",
    "X = sm.add_constant(X)\n",
    "res = sm.OLS(y, X).fit().get_robustcov_results('cluster', groups=df.WorkerId)\n",
    "res.summary()"
   ]
  },
  {
   "cell_type": "code",
   "execution_count": 8,
   "metadata": {},
   "outputs": [
    {
     "output_type": "execute_result",
     "data": {
      "text/plain": [
       "(<class 'statsmodels.stats.contrast.ContrastResults'>\n",
       " <F test: F=array([[0.98770122]]), p=0.3255041541320689, df_denom=46, df_num=1>,\n",
       " <class 'statsmodels.stats.contrast.ContrastResults'>\n",
       " <F test: F=array([[1.16941679]]), p=0.28515788397789515, df_denom=46, df_num=1>)"
      ]
     },
     "metadata": {},
     "execution_count": 8
    }
   ],
   "source": [
    "# test for significance of bootstrapping, context\n",
    "res.f_test(np.array([0, 1, 0, 1])), res.f_test(np.array([0, 0, 1, 1]))"
   ]
  },
  {
   "cell_type": "code",
   "execution_count": 9,
   "metadata": {},
   "outputs": [
    {
     "output_type": "stream",
     "name": "stderr",
     "text": [
      "<ipython-input-9-0492641a0f31>:1: FutureWarning: Indexing with multiple keys (implicitly converted to a tuple of keys) will be deprecated, use a list instead.\n  df.groupby(['Bootstrap', 'Context'])[\n"
     ]
    },
    {
     "output_type": "execute_result",
     "data": {
      "text/plain": [
       "                         Age      Male    LookUp  BerlinScore  \\\n",
       "Bootstrap Context                                               \n",
       "0.0       both     37.549020  0.673203  0.241830     2.143791   \n",
       "          neither  45.201439  0.517986  0.309353     2.266187   \n",
       "1.0       both     39.659420  0.579710  0.557971     1.652174   \n",
       "          neither  34.906780  0.906780  0.627119     1.847458   \n",
       "\n",
       "                   CRT_BatBallIntuitive  AverageEstimateLoss  \n",
       "Bootstrap Context                                             \n",
       "0.0       both                 0.431373             0.120077  \n",
       "          neither              0.258993             0.021316  \n",
       "1.0       both                 0.557971            -0.011378  \n",
       "          neither              0.330508            -0.167496  "
      ],
      "text/html": "<div>\n<style scoped>\n    .dataframe tbody tr th:only-of-type {\n        vertical-align: middle;\n    }\n\n    .dataframe tbody tr th {\n        vertical-align: top;\n    }\n\n    .dataframe thead th {\n        text-align: right;\n    }\n</style>\n<table border=\"1\" class=\"dataframe\">\n  <thead>\n    <tr style=\"text-align: right;\">\n      <th></th>\n      <th></th>\n      <th>Age</th>\n      <th>Male</th>\n      <th>LookUp</th>\n      <th>BerlinScore</th>\n      <th>CRT_BatBallIntuitive</th>\n      <th>AverageEstimateLoss</th>\n    </tr>\n    <tr>\n      <th>Bootstrap</th>\n      <th>Context</th>\n      <th></th>\n      <th></th>\n      <th></th>\n      <th></th>\n      <th></th>\n      <th></th>\n    </tr>\n  </thead>\n  <tbody>\n    <tr>\n      <th rowspan=\"2\" valign=\"top\">0.0</th>\n      <th>both</th>\n      <td>37.549020</td>\n      <td>0.673203</td>\n      <td>0.241830</td>\n      <td>2.143791</td>\n      <td>0.431373</td>\n      <td>0.120077</td>\n    </tr>\n    <tr>\n      <th>neither</th>\n      <td>45.201439</td>\n      <td>0.517986</td>\n      <td>0.309353</td>\n      <td>2.266187</td>\n      <td>0.258993</td>\n      <td>0.021316</td>\n    </tr>\n    <tr>\n      <th rowspan=\"2\" valign=\"top\">1.0</th>\n      <th>both</th>\n      <td>39.659420</td>\n      <td>0.579710</td>\n      <td>0.557971</td>\n      <td>1.652174</td>\n      <td>0.557971</td>\n      <td>-0.011378</td>\n    </tr>\n    <tr>\n      <th>neither</th>\n      <td>34.906780</td>\n      <td>0.906780</td>\n      <td>0.627119</td>\n      <td>1.847458</td>\n      <td>0.330508</td>\n      <td>-0.167496</td>\n    </tr>\n  </tbody>\n</table>\n</div>"
     },
     "metadata": {},
     "execution_count": 9
    }
   ],
   "source": [
    "df.groupby(['Bootstrap', 'Context'])[\n",
    "    'Age', \n",
    "    'Male', \n",
    "    'LookUp', \n",
    "    'BerlinScore', \n",
    "    'CRT_BatBallIntuitive', \n",
    "    'AverageEstimateLoss'\n",
    "].mean()"
   ]
  }
 ],
 "metadata": {
  "kernelspec": {
   "display_name": "context_bootstrapping",
   "language": "python",
   "name": "context_bootstrapping"
  },
  "language_info": {
   "codemirror_mode": {
    "name": "ipython",
    "version": 3
   },
   "file_extension": ".py",
   "mimetype": "text/x-python",
   "name": "python",
   "nbconvert_exporter": "python",
   "pygments_lexer": "ipython3",
   "version": "3.8.5-final"
  }
 },
 "nbformat": 4,
 "nbformat_minor": 2
}